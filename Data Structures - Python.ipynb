{
 "cells": [
  {
   "cell_type": "markdown",
   "metadata": {},
   "source": [
    "# Data Structures"
   ]
  },
  {
   "cell_type": "markdown",
   "metadata": {},
   "source": [
    "## Lists"
   ]
  },
  {
   "cell_type": "code",
   "execution_count": 73,
   "metadata": {},
   "outputs": [
    {
     "name": "stdout",
     "output_type": "stream",
     "text": [
      "Blank List: []\n",
      "List: [1, 'cat', -736.8, 'London', 1]\n",
      "This list has length 5\n",
      "List and List1 concatenated: [1, 'cat', -736.8, 'London', 1, 0, 2]\n"
     ]
    }
   ],
   "source": [
    "# Creating an empty list \n",
    "List = [] \n",
    "print(\"Blank List:\", List)\n",
    "\n",
    "# Creating a List. This list has mixed data types and duplicates\n",
    "List = [1, \"cat\", -736.8, \"London\", 1] \n",
    "print(\"List:\", List)\n",
    "print(\"This list has length\", len(List))\n",
    "\n",
    "# Concatenate two lists\n",
    "List1 = [0,2]\n",
    "print(\"List and List1 concatenated:\", List + List1)"
   ]
  },
  {
   "cell_type": "code",
   "execution_count": 62,
   "metadata": {},
   "outputs": [
    {
     "name": "stdout",
     "output_type": "stream",
     "text": [
      "List after addition of Three elements: [1, 'cat', -736.8, 'London', 1, 'Edinburgh', 2]\n",
      "List after addition of a List: [1, 'cat', -736.8, 'London', 1, 'Edinburgh', 2, [102.3, 'frog']]\n",
      "List after using the insert method: [1, 'cat', -736.8, 'London', 6, 1, 'Edinburgh', 2, [102.3, 'frog']]\n",
      "List after using the extend method: [1, 'cat', -736.8, 'London', 6, 1, 'Edinburgh', 2, [102.3, 'frog'], 12, 'John']\n"
     ]
    }
   ],
   "source": [
    "# Addition of elements in a list \n",
    "List.append(\"Edinburgh\") \n",
    "List.append(2) \n",
    "print(\"List after addition of Three elements:\", List) \n",
    "\n",
    "# Addition of a list to a list \n",
    "List2 = [102.3, \"frog\"] \n",
    "List.append(List2) \n",
    "print(\"List after addition of a List:\", List) \n",
    "\n",
    "# Addition of and element to the list at specific position \n",
    "List.insert(4, 6) \n",
    "print(\"List after using the insert method:\", List) \n",
    "\n",
    "# Addition of multiple elements to the end of the list \n",
    "List.extend([12, \"John\"]) \n",
    "print(\"List after using the extend method:\", List) "
   ]
  },
  {
   "cell_type": "code",
   "execution_count": 63,
   "metadata": {},
   "outputs": [
    {
     "name": "stdout",
     "output_type": "stream",
     "text": [
      "The first and third elements form our list are: 1 and -736.8\n",
      "The last element of our list is: John\n",
      "The third last element of our list is: 2\n"
     ]
    }
   ],
   "source": [
    "# Accesing the first and third element from a list\n",
    "print(\"The first and third elements form our list are:\", List[0], \"and\", List[2]) \n",
    "\n",
    "# Accesing the last element of a list\n",
    "print(\"The last element of our list is:\", List[-1])\n",
    "\n",
    "# Accesing the fourth last element of a list\n",
    "print(\"The third last element of our list is:\", List[-4]) "
   ]
  },
  {
   "cell_type": "code",
   "execution_count": 64,
   "metadata": {},
   "outputs": [
    {
     "name": "stdout",
     "output_type": "stream",
     "text": [
      "List after removing two elements: [1, 'cat', -736.8, 6, 1, 'Edinburgh', [102.3, 'frog'], 12, 'John']\n",
      "The method pop returns the element: John\n",
      "List after popping an element: [1, 'cat', -736.8, 6, 1, 'Edinburgh', [102.3, 'frog'], 12]\n",
      "The method pop, specifying the index 3 returns the element: 6\n",
      "List after popping a specific element: [1, 'cat', -736.8, 1, 'Edinburgh', [102.3, 'frog'], 12]\n"
     ]
    }
   ],
   "source": [
    "# Removing specific elements form the list\n",
    "List.remove(2) \n",
    "List.remove(\"London\") \n",
    "print(\"List after removing two elements:\", List) \n",
    "\n",
    "# Removing and returning the last element from the list\n",
    "print(\"The method pop returns the element:\", List.pop())\n",
    "print(\"List after popping an element:\", List) \n",
    "\n",
    "# Removing and returning an specific element from the list \n",
    "print(\"The method pop, specifying the index 3 returns the element:\", List.pop(3))\n",
    "print(\"List after popping a specific element:\", List)"
   ]
  },
  {
   "cell_type": "code",
   "execution_count": 65,
   "metadata": {},
   "outputs": [
    {
     "name": "stdout",
     "output_type": "stream",
     "text": [
      "The elements in a the index range 3 to 6 are : [1, 'Edinburgh', [102.3, 'frog']]\n",
      "The elements from index 5 of the list till the end are: [[102.3, 'frog'], 12]\n",
      "The elements from the beginning until the third last element of the list are: [1, 'cat', -736.8, 1]\n",
      "Printing list in reverse: [12, [102.3, 'frog'], 'Edinburgh', 1, -736.8, 'cat', 1]\n"
     ]
    }
   ],
   "source": [
    "# Printing elements of a range\n",
    "print(\"The elements in a the index range 3 to 6 are :\", List[3:6]) \n",
    "\n",
    "# Printing elements from an index until the end \n",
    "print(\"The elements from index 5 of the list till the end are:\", List[5:]) \n",
    "\n",
    "# Printing elements from the beginning until the third last element\n",
    "print(\"The elements from the beginning until the third last element of the list are:\", List[:-3]) \n",
    "\n",
    "# Printing elements in reverse order\n",
    "print(\"Printing list in reverse:\", List[::-1]) "
   ]
  },
  {
   "cell_type": "markdown",
   "metadata": {},
   "source": [
    "## Tuples"
   ]
  },
  {
   "cell_type": "code",
   "execution_count": 7,
   "metadata": {},
   "outputs": [
    {
     "name": "stdout",
     "output_type": "stream",
     "text": [
      "The tuples: ('a', 'b', 'c', 'd') , (1, 2, 3, 4, 5) , ('Python', 1992, 'Java', 1987) , () , (100,)\n",
      "are of length: 4 , 5 , 4 , 0 and 1 respectively.\n"
     ]
    }
   ],
   "source": [
    "#Defining and printing tuples and their length\n",
    "tuple1 = \"a\", \"b\", \"c\", \"d\"\n",
    "tuple2 = (1, 2, 3, 4, 5)\n",
    "tuple3 = (\"Python\", 1992, \"Java\", 1987)\n",
    "tuple4 = ()\n",
    "tuple5 = (100,)\n",
    "print(\"The tuples:\",tuple1,\",\",tuple2,\",\",tuple3,\",\",tuple4,\",\",tuple5)\n",
    "print(\"are of length:\",len(tuple1),\",\",len(tuple2),\",\",len(tuple3),\",\",len(tuple4),\"and\",len(tuple5),\"respectively.\", )"
   ]
  },
  {
   "cell_type": "code",
   "execution_count": 9,
   "metadata": {},
   "outputs": [
    {
     "name": "stdout",
     "output_type": "stream",
     "text": [
      "The tuple: ('a', 'b', 'c') is created by slicing ('a', 'b', 'c', 'd') from index 0 to 3.\n",
      "The tuple: (1, 2, 3, 4, 5, 'Python', 1992, 'Java', 1987) is created by contatenating ('a', 'b', 'c') and (1, 2, 3, 4, 5, 'Python', 1992, 'Java', 1987)\n"
     ]
    }
   ],
   "source": [
    "#Slicing and concatenating tuples\n",
    "tuple6 = tuple1[0:3]\n",
    "tuple7 = tuple2 + tuple3\n",
    "print(\"The tuple:\",tuple6,\"is created by slicing\",tuple1,\"from index 0 to 3.\")\n",
    "print(\"The tuple:\",tuple7,\"is created by contatenating\",tuple6,\"and\", tuple7)"
   ]
  },
  {
   "cell_type": "code",
   "execution_count": 10,
   "metadata": {},
   "outputs": [
    {
     "ename": "TypeError",
     "evalue": "'tuple' object does not support item assignment",
     "output_type": "error",
     "traceback": [
      "\u001b[0;31m---------------------------------------------------------------------------\u001b[0m",
      "\u001b[0;31mTypeError\u001b[0m                                 Traceback (most recent call last)",
      "\u001b[0;32m<ipython-input-10-8e622684396c>\u001b[0m in \u001b[0;36m<module>\u001b[0;34m\u001b[0m\n\u001b[1;32m      1\u001b[0m \u001b[0;31m#Tuples are inmutable\u001b[0m\u001b[0;34m\u001b[0m\u001b[0;34m\u001b[0m\u001b[0;34m\u001b[0m\u001b[0m\n\u001b[0;32m----> 2\u001b[0;31m \u001b[0mtuple1\u001b[0m\u001b[0;34m[\u001b[0m\u001b[0;36m0\u001b[0m\u001b[0;34m]\u001b[0m\u001b[0;34m=\u001b[0m\u001b[0;34m\"e\"\u001b[0m\u001b[0;34m\u001b[0m\u001b[0;34m\u001b[0m\u001b[0m\n\u001b[0m",
      "\u001b[0;31mTypeError\u001b[0m: 'tuple' object does not support item assignment"
     ]
    }
   ],
   "source": [
    "#Tuples are inmutable. The following will throw an error.\n",
    "tuple1[0]=\"e\""
   ]
  },
  {
   "cell_type": "markdown",
   "metadata": {},
   "source": [
    "## Sets"
   ]
  },
  {
   "cell_type": "code",
   "execution_count": 20,
   "metadata": {
    "tags": []
   },
   "outputs": [
    {
     "output_type": "stream",
     "name": "stdout",
     "text": "This is our set: {'Naive Bayes', 'Discriminant Analysis', 'SVM', 'KNN'}\nThe items in our set are:\nNaive Bayes\nDiscriminant Analysis\nSVM\nKNN\nPrint True if SVM is in our set: True\nOur list has 4 items.\n"
    }
   ],
   "source": [
    "#Creating a set\n",
    "set={\"SVM\", \"Discriminant Analysis\", \"Naive Bayes\", \"KNN\"}\n",
    "print(\"This is our set:\",set)\n",
    "\n",
    "#Looping through the set and printing its items\n",
    "print(\"The items in our set are:\")\n",
    "for item in set:\n",
    "    print(item)\n",
    "\n",
    "#Using the keyword in to check if an item is in our set\n",
    "print(\"Print True if SVM is in our set:\", \"SVM\" in set)\n",
    "\n",
    "#Determining how many items our set has\n",
    "print(\"Our list has\", len(set), \"items.\")"
   ]
  },
  {
   "cell_type": "code",
   "execution_count": 21,
   "metadata": {
    "tags": []
   },
   "outputs": [
    {
     "output_type": "stream",
     "name": "stdout",
     "text": "Our set after adding an item: {'Naive Bayes', 'KNN', 'Neural Networks', 'Discriminant Analysis', 'SVM'}\nOur set after adding two new items: {'Naive Bayes', 'KNN', 'Neural Networks', 'Decision Tree', 'Discriminant Analysis', 'SVM', 'Logistic Regresion'}\nOur set after removing KNN: {'Naive Bayes', 'Neural Networks', 'Decision Tree', 'Discriminant Analysis', 'SVM', 'Logistic Regresion'}\nOur set after removing Naive Bayes: {'Neural Networks', 'Decision Tree', 'Discriminant Analysis', 'SVM', 'Logistic Regresion'}\nOur set after popping one element: {'Decision Tree', 'Discriminant Analysis', 'SVM', 'Logistic Regresion'}\nThe element popped was: Neural Networks\nAfter using the clear method our set has now 0 elements.\n"
    }
   ],
   "source": [
    "#Adding an item using the add method\n",
    "set.add(\"Neural Networks\")\n",
    "print(\"Our set after adding an item:\", set)\n",
    "\n",
    "#Adding multiple items using the update method\n",
    "set.update([\"Decision Tree\", \"Logistic Regression\"])\n",
    "print(\"Our set after adding two new items:\", set)\n",
    "\n",
    "#Removing one element using the remove method\n",
    "set.remove(\"KNN\")\n",
    "print(\"Our set after removing KNN:\", set)\n",
    "\n",
    "#Removing one element using the discard method\n",
    "set.discard(\"Naive Bayes\")\n",
    "print(\"Our set after removing Naive Bayes:\", set)\n",
    "\n",
    "#Removing one element using the pop method\n",
    "poppedItem = set.pop()\n",
    "print(\"Our set after popping one element:\", set)\n",
    "print(\"The element popped was:\", poppedItem)\n",
    "\n",
    "#Removing every element of our set using the clear method\n",
    "set.clear()\n",
    "print(\"After using the clear method our set has now\", len(set), \"elements.\")"
   ]
  },
  {
   "cell_type": "code",
   "execution_count": 59,
   "metadata": {
    "tags": []
   },
   "outputs": [
    {
     "output_type": "stream",
     "name": "stdout",
     "text": "This is our dictionary: {'name': 'Moonface', 'race': 'Tiefling', 'class': 'Barbarian', 'level': 3}\nName: Moonface\nRace: Tiefling\nOur dictionary has 4 items.\n"
    }
   ],
   "source": [
    "#Creating and printing a dictionary\n",
    "dictionary = {\n",
    "    \"name\": \"Moonface\",\n",
    "    \"race\": \"Tiefling\",\n",
    "    \"class\": \"Barbarian\",\n",
    "    \"level\": 3\n",
    "}\n",
    "print(\"This is our dictionary:\",dictionary)\n",
    "\n",
    "#Accesing an item in two ways\n",
    "print(\"Name:\", dictionary[\"name\"])\n",
    "print(\"Race:\",dictionary.get(\"race\"))\n",
    "\n",
    "#Determining the number of items in our dictionary\n",
    "print(\"Our dictionary has\", len(dictionary), \"items.\")"
   ]
  },
  {
   "cell_type": "code",
   "execution_count": 57,
   "metadata": {
    "tags": []
   },
   "outputs": [
    {
     "output_type": "stream",
     "name": "stdout",
     "text": "The keys of our dictionary are:\nname\nrace\nclass\nlevel\nThe values of our dictionary are:\nMoonface\nTiefling\nBarbarian\n3\nWe obtain the same result using the values method ir our loop:\nMoonface\nTiefling\nBarbarian\n3\nThe items of our dictionary are:\nname Moonface\nrace Tiefling\nclass Barbarian\nlevel 3\n"
    }
   ],
   "source": [
    "#Printing every key of our dictionary\n",
    "print(\"The keys of our dictionary are:\")\n",
    "for key in dictionary:\n",
    "    print(key)\n",
    "\n",
    "#Printing every value of our dictionary\n",
    "print(\"The values of our dictionary are:\")\n",
    "for key in dictionary:\n",
    "    print(dictionary[key])\n",
    "\n",
    "#Printing every value of our dictionary using the values method\n",
    "print(\"We obtain the same result using the values method ir our loop:\")\n",
    "for values in dictionary.values():\n",
    "    print(values)\n",
    "\n",
    "#Printing every pair of keys and values of our dictionary\n",
    "print(\"The items of our dictionary are:\")\n",
    "for keys, values in dictionary.items():\n",
    "    print(keys,values)"
   ]
  },
  {
   "cell_type": "code",
   "execution_count": 58,
   "metadata": {
    "tags": []
   },
   "outputs": [
    {
     "output_type": "stream",
     "name": "stdout",
     "text": "Level is now ugraded to 4 : {'name': 'Moonface', 'race': 'Tiefling', 'class': 'Barbarian', 'level': 4}\nWe have added the item 'experience' to our dictiornary: {'name': 'Moonface', 'race': 'Tiefling', 'class': 'Barbarian', 'level': 4, 'experience': 2700}\nOur dictionary after removing the item 'experience': {'name': 'Moonface', 'race': 'Tiefling', 'class': 'Barbarian', 'level': 4}\nOur dictionary after removing the last item: {'name': 'Moonface', 'race': 'Tiefling', 'class': 'Barbarian'}\nOur dictionary after removing the item 'class': {'name': 'Moonface', 'race': 'Tiefling'}\nOur dictionary after removing every element: {}\n"
    },
    {
     "output_type": "error",
     "ename": "NameError",
     "evalue": "name 'dictionary' is not defined",
     "traceback": [
      "\u001b[0;31m---------------------------------------------------------------------------\u001b[0m",
      "\u001b[0;31mNameError\u001b[0m                                 Traceback (most recent call last)",
      "\u001b[0;32m<ipython-input-58-fc93f1318e5e>\u001b[0m in \u001b[0;36m<module>\u001b[0;34m\u001b[0m\n\u001b[1;32m     25\u001b[0m \u001b[0;31m#Deleting our dictionary\u001b[0m\u001b[0;34m\u001b[0m\u001b[0;34m\u001b[0m\u001b[0;34m\u001b[0m\u001b[0m\n\u001b[1;32m     26\u001b[0m \u001b[0;32mdel\u001b[0m \u001b[0mdictionary\u001b[0m\u001b[0;34m\u001b[0m\u001b[0;34m\u001b[0m\u001b[0m\n\u001b[0;32m---> 27\u001b[0;31m \u001b[0mprint\u001b[0m\u001b[0;34m(\u001b[0m\u001b[0;34m\"This will throw an error as our dictionary no longer exists:\"\u001b[0m\u001b[0;34m,\u001b[0m \u001b[0mdictionary\u001b[0m\u001b[0;34m)\u001b[0m\u001b[0;34m\u001b[0m\u001b[0;34m\u001b[0m\u001b[0m\n\u001b[0m\u001b[1;32m     28\u001b[0m \u001b[0;34m\u001b[0m\u001b[0m\n\u001b[1;32m     29\u001b[0m \u001b[0;34m\u001b[0m\u001b[0m\n",
      "\u001b[0;31mNameError\u001b[0m: name 'dictionary' is not defined"
     ]
    }
   ],
   "source": [
    "#Changing the value of an item\n",
    "dictionary[\"level\"]=4\n",
    "print(\"Level is now ugraded to\", dictionary[\"level\"],\":\", dictionary)\n",
    "\n",
    "#Adding an item to the dictionary\n",
    "dictionary[\"experience\"] = 2700\n",
    "print(\"We have added the item 'experience' to our dictiornary:\", dictionary)\n",
    "\n",
    "#Removing an item using the pop method\n",
    "dictionary.pop(\"experience\")\n",
    "print(\"Our dictionary after removing the item 'experience':\", dictionary)\n",
    "\n",
    "#Removing the last item using the popitem method\n",
    "dictionary.popitem()\n",
    "print(\"Our dictionary after removing the last item:\", dictionary)\n",
    "\n",
    "#Removing an item using the del keyword\n",
    "del dictionary[\"class\"]\n",
    "print(\"Our dictionary after removing the item 'class':\", dictionary)\n",
    "\n",
    "#Removing every item in the dictionary using the clear method\n",
    "dictionary.clear()\n",
    "print(\"Our dictionary after removing every element:\", dictionary)\n",
    "\n",
    "#Deleting our dictionary\n",
    "del dictionary\n",
    "print(\"This will throw an error as our dictionary no longer exists:\", dictionary)"
   ]
  },
  {
   "cell_type": "code",
   "execution_count": 79,
   "metadata": {
    "tags": []
   },
   "outputs": [
    {
     "output_type": "stream",
     "name": "stdout",
     "text": "Our nested dictionaries: {'book1': {'title': 'Brave new world', 'year': 1932}, 'book2': {'title': 'The curious incident of the dog in the night-time', 'year': 2003}, 'book3': {'title': 'Momo', 'year': 1973}}\nThis prints the same output: {'book1': {'title': 'Brave new world', 'year': 1932}, 'book2': {'title': 'The curious incident of the dog in the night-time', 'year': 2003}, 'book3': {'title': 'Momo', 'year': 1973}}\n"
    }
   ],
   "source": [
    "#Creating and printing a nested dictionary\n",
    "books = {\n",
    "    \"book1\" : {\n",
    "        \"title\" : \"Brave new world\",\n",
    "         \"year\" : 1932 }, \n",
    "    \"book2\" : {\n",
    "        \"title\" : \"The curious incident of the dog in the night-time\",\n",
    "        \"year\" : 2003}, \n",
    "    \"book3\" : {\n",
    "        \"title\" : \"Momo\",\n",
    "        \"year\" : 1973}\n",
    "}\n",
    "print(\"Our nested dictionaries:\", books)\n",
    "\n",
    "#Creating a nested dictionary from existing dictionaries and printing it\n",
    "book1 = {\n",
    "    \"title\" : \"Brave new world\",\n",
    "    \"year\" : 1932\n",
    "    }\n",
    "book2 = {\n",
    "    \"title\" : \"The curious incident of the dog in the night-time\",\n",
    "    \"year\" : 2003\n",
    "    }\n",
    "book3 = {\n",
    "    \"title\" : \"Momo\",\n",
    "    \"year\" : 1973\n",
    "    }\n",
    "\n",
    "books = {\n",
    "    \"book1\" : book1,\n",
    "    \"book2\" : book2,\n",
    "    \"book3\" : book3\n",
    "}\n",
    "print(\"This prints the same output:\", books)"
   ]
  },
  {
   "cell_type": "code",
   "execution_count": 81,
   "metadata": {
    "tags": []
   },
   "outputs": [
    {
     "output_type": "stream",
     "name": "stdout",
     "text": "Our new dictionary: {'name': 'MOPA', 'genre': 'Rock', 'nationality': 'French'}\n"
    }
   ],
   "source": [
    "#Creating a dictionary using the dict constructor\n",
    "band = dict(name=\"MOPA\", genre=\"Rock\", nationality=\"French\")\n",
    "print(\"Our new dictionary:\", band)"
   ]
  },
  {
   "source": [
    "# Stack"
   ],
   "cell_type": "markdown",
   "metadata": {}
  },
  {
   "cell_type": "code",
   "execution_count": 220,
   "metadata": {
    "tags": []
   },
   "outputs": [
    {
     "output_type": "stream",
     "name": "stdout",
     "text": "[&#39;a&#39;, &#39;b&#39;, &#39;c&#39;]\n"
    }
   ],
   "source": [
    "#Creating a stack using a list\n",
    "stack = []\n",
    "#Adding elements to the stack\n",
    "stack.append('a')\n",
    "stack.append('b')\n",
    "stack.append('c')\n",
    "print(stack)"
   ]
  },
  {
   "cell_type": "code",
   "execution_count": 221,
   "metadata": {},
   "outputs": [
    {
     "output_type": "execute_result",
     "data": {
      "text/plain": "&#39;c&#39;"
     },
     "metadata": {},
     "execution_count": 221
    }
   ],
   "source": [
    "#Removing the last element from the stack\n",
    "stack.pop()"
   ]
  },
  {
   "cell_type": "code",
   "execution_count": 213,
   "metadata": {
    "tags": []
   },
   "outputs": [
    {
     "output_type": "stream",
     "name": "stdout",
     "text": "[&#39;a&#39;, &#39;b&#39;]\n"
    }
   ],
   "source": [
    "#Current state of the stack\n",
    "print(stack)"
   ]
  },
  {
   "cell_type": "code",
   "execution_count": 214,
   "metadata": {},
   "outputs": [
    {
     "output_type": "execute_result",
     "data": {
      "text/plain": "&#39;b&#39;"
     },
     "metadata": {},
     "execution_count": 214
    }
   ],
   "source": [
    "#Removing the last element from the stack\n",
    "stack.pop()"
   ]
  },
  {
   "cell_type": "code",
   "execution_count": 215,
   "metadata": {
    "tags": []
   },
   "outputs": [
    {
     "output_type": "stream",
     "name": "stdout",
     "text": "[&#39;a&#39;]\n"
    }
   ],
   "source": [
    "#Current state of the stack\n",
    "print(stack)"
   ]
  },
  {
   "cell_type": "code",
   "execution_count": 216,
   "metadata": {},
   "outputs": [
    {
     "output_type": "execute_result",
     "data": {
      "text/plain": "&#39;a&#39;"
     },
     "metadata": {},
     "execution_count": 216
    }
   ],
   "source": [
    "#Removing the last element from the stack\n",
    "stack.pop()"
   ]
  },
  {
   "cell_type": "code",
   "execution_count": 217,
   "metadata": {
    "tags": []
   },
   "outputs": [
    {
     "output_type": "stream",
     "name": "stdout",
     "text": "[]\n"
    }
   ],
   "source": [
    "#Current state of the stack\n",
    "print(stack)"
   ]
  },
  {
   "cell_type": "code",
   "execution_count": 218,
   "metadata": {},
   "outputs": [
    {
     "output_type": "error",
     "ename": "IndexError",
     "evalue": "pop from empty list",
     "traceback": [
      "\u001b[0;31m---------------------------------------------------------------------------\u001b[0m",
      "\u001b[0;31mIndexError\u001b[0m                                Traceback (most recent call last)",
      "\u001b[0;32m&lt;ipython-input-218-415460d3b717&gt;\u001b[0m in \u001b[0;36m&lt;module&gt;\u001b[0;34m\u001b[0m\n\u001b[0;32m----&gt; 1\u001b[0;31m \u001b[0mstack\u001b[0m\u001b[0;34m.\u001b[0m\u001b[0mpop\u001b[0m\u001b[0;34m(\u001b[0m\u001b[0;34m)\u001b[0m\u001b[0;34m\u001b[0m\u001b[0;34m\u001b[0m\u001b[0m\n\u001b[0m",
      "\u001b[0;31mIndexError\u001b[0m: pop from empty list"
     ]
    }
   ],
   "source": [
    "#Trying to remove the last element of the stack\n",
    "stack.pop()"
   ]
  },
  {
   "cell_type": "code",
   "execution_count": 222,
   "metadata": {
    "tags": []
   },
   "outputs": [
    {
     "output_type": "stream",
     "name": "stdout",
     "text": "deque([&#39;a&#39;, &#39;b&#39;, &#39;c&#39;])\n"
    }
   ],
   "source": [
    "#Creating a stack using collections.deque\n",
    "from collections import deque\n",
    "stack = deque()\n",
    "#Adding elements to the stack\n",
    "stack.append('a')\n",
    "stack.append('b')\n",
    "stack.append('c')\n",
    "print(stack)"
   ]
  },
  {
   "cell_type": "code",
   "execution_count": 223,
   "metadata": {},
   "outputs": [
    {
     "output_type": "execute_result",
     "data": {
      "text/plain": "&#39;c&#39;"
     },
     "metadata": {},
     "execution_count": 223
    }
   ],
   "source": [
    "#Removing the last element from the stack\n",
    "stack.pop()"
   ]
  },
  {
   "cell_type": "code",
   "execution_count": 224,
   "metadata": {
    "tags": []
   },
   "outputs": [
    {
     "output_type": "stream",
     "name": "stdout",
     "text": "deque([&#39;a&#39;, &#39;b&#39;])\n"
    }
   ],
   "source": [
    "#Current state of the stack\n",
    "print(stack)"
   ]
  },
  {
   "cell_type": "code",
   "execution_count": 225,
   "metadata": {},
   "outputs": [
    {
     "output_type": "execute_result",
     "data": {
      "text/plain": "&#39;b&#39;"
     },
     "metadata": {},
     "execution_count": 225
    }
   ],
   "source": [
    "#Removing the last element from the stack\n",
    "stack.pop()"
   ]
  },
  {
   "cell_type": "code",
   "execution_count": 226,
   "metadata": {
    "tags": []
   },
   "outputs": [
    {
     "output_type": "stream",
     "name": "stdout",
     "text": "deque([&#39;a&#39;])\n"
    }
   ],
   "source": [
    "#Current state of the stack\n",
    "print(stack)"
   ]
  },
  {
   "cell_type": "code",
   "execution_count": 227,
   "metadata": {},
   "outputs": [
    {
     "output_type": "execute_result",
     "data": {
      "text/plain": "&#39;a&#39;"
     },
     "metadata": {},
     "execution_count": 227
    }
   ],
   "source": [
    "#Removing the last element from the stack\n",
    "stack.pop()"
   ]
  },
  {
   "cell_type": "code",
   "execution_count": 228,
   "metadata": {
    "tags": []
   },
   "outputs": [
    {
     "output_type": "stream",
     "name": "stdout",
     "text": "deque([])\n"
    }
   ],
   "source": [
    "#Current state of the stack\n",
    "print(stack)"
   ]
  },
  {
   "cell_type": "code",
   "execution_count": 229,
   "metadata": {},
   "outputs": [
    {
     "output_type": "error",
     "ename": "IndexError",
     "evalue": "pop from an empty deque",
     "traceback": [
      "\u001b[0;31m---------------------------------------------------------------------------\u001b[0m",
      "\u001b[0;31mIndexError\u001b[0m                                Traceback (most recent call last)",
      "\u001b[0;32m&lt;ipython-input-229-9c58c1a3387f&gt;\u001b[0m in \u001b[0;36m&lt;module&gt;\u001b[0;34m\u001b[0m\n\u001b[1;32m      1\u001b[0m \u001b[0;31m#Removing the last element from the stack\u001b[0m\u001b[0;34m\u001b[0m\u001b[0;34m\u001b[0m\u001b[0;34m\u001b[0m\u001b[0m\n\u001b[0;32m----&gt; 2\u001b[0;31m \u001b[0mstack\u001b[0m\u001b[0;34m.\u001b[0m\u001b[0mpop\u001b[0m\u001b[0;34m(\u001b[0m\u001b[0;34m)\u001b[0m\u001b[0;34m\u001b[0m\u001b[0;34m\u001b[0m\u001b[0m\n\u001b[0m",
      "\u001b[0;31mIndexError\u001b[0m: pop from an empty deque"
     ]
    }
   ],
   "source": [
    "#Removing the last element from the stack\n",
    "stack.pop()"
   ]
  },
  {
   "cell_type": "code",
   "execution_count": 236,
   "metadata": {
    "tags": []
   },
   "outputs": [
    {
     "output_type": "stream",
     "name": "stdout",
     "text": "&lt;queue.LifoQueue object at 0x111724520&gt;\n"
    }
   ],
   "source": [
    "#Creating a stack using queue.LifoQueue\n",
    "\n",
    "from queue import LifoQueue\n",
    "\n",
    "stack = LifoQueue()\n",
    "\n",
    "stack.put('a')\n",
    "stack.put('b')\n",
    "stack.put('c')\n",
    "\n",
    "print(stack)"
   ]
  },
  {
   "cell_type": "code",
   "execution_count": 237,
   "metadata": {},
   "outputs": [
    {
     "output_type": "execute_result",
     "data": {
      "text/plain": "&#39;c&#39;"
     },
     "metadata": {},
     "execution_count": 237
    }
   ],
   "source": [
    "#Removing the last element from the stack\n",
    "stack.get()"
   ]
  },
  {
   "cell_type": "code",
   "execution_count": 238,
   "metadata": {},
   "outputs": [
    {
     "output_type": "execute_result",
     "data": {
      "text/plain": "&#39;b&#39;"
     },
     "metadata": {},
     "execution_count": 238
    }
   ],
   "source": [
    "#Removing the last element from the stack\n",
    "stack.get()"
   ]
  },
  {
   "cell_type": "code",
   "execution_count": 239,
   "metadata": {},
   "outputs": [
    {
     "output_type": "execute_result",
     "data": {
      "text/plain": "&#39;a&#39;"
     },
     "metadata": {},
     "execution_count": 239
    }
   ],
   "source": [
    "#Removing the last element from the stack\n",
    "stack.get()"
   ]
  },
  {
   "cell_type": "code",
   "execution_count": 261,
   "metadata": {},
   "outputs": [
    {
     "output_type": "error",
     "ename": "Empty",
     "evalue": "",
     "traceback": [
      "\u001b[0;31m---------------------------------------------------------------------------\u001b[0m",
      "\u001b[0;31mEmpty\u001b[0m                                     Traceback (most recent call last)",
      "\u001b[0;32m&lt;ipython-input-261-7c6255b19072&gt;\u001b[0m in \u001b[0;36m&lt;module&gt;\u001b[0;34m\u001b[0m\n\u001b[1;32m      1\u001b[0m \u001b[0;31m#Trying to remove that las element from the stack using .get_nowait() as .get() is very slow when the stack is empty\u001b[0m\u001b[0;34m\u001b[0m\u001b[0;34m\u001b[0m\u001b[0;34m\u001b[0m\u001b[0m\n\u001b[0;32m----&gt; 2\u001b[0;31m \u001b[0mstack\u001b[0m\u001b[0;34m.\u001b[0m\u001b[0mget_nowait\u001b[0m\u001b[0;34m(\u001b[0m\u001b[0;34m)\u001b[0m\u001b[0;34m\u001b[0m\u001b[0;34m\u001b[0m\u001b[0m\n\u001b[0m",
      "\u001b[0;32m/usr/local/Cellar/python@3.8/3.8.5/Frameworks/Python.framework/Versions/3.8/lib/python3.8/queue.py\u001b[0m in \u001b[0;36mget_nowait\u001b[0;34m(self)\u001b[0m\n\u001b[1;32m    196\u001b[0m         \u001b[0;32mraise\u001b[0m \u001b[0mthe\u001b[0m \u001b[0mEmpty\u001b[0m \u001b[0mexception\u001b[0m\u001b[0;34m.\u001b[0m\u001b[0;34m\u001b[0m\u001b[0;34m\u001b[0m\u001b[0m\n\u001b[1;32m    197\u001b[0m         &#39;&#39;&#39;\n\u001b[0;32m--&gt; 198\u001b[0;31m         \u001b[0;32mreturn\u001b[0m \u001b[0mself\u001b[0m\u001b[0;34m.\u001b[0m\u001b[0mget\u001b[0m\u001b[0;34m(\u001b[0m\u001b[0mblock\u001b[0m\u001b[0;34m=\u001b[0m\u001b[0;32mFalse\u001b[0m\u001b[0;34m)\u001b[0m\u001b[0;34m\u001b[0m\u001b[0;34m\u001b[0m\u001b[0m\n\u001b[0m\u001b[1;32m    199\u001b[0m \u001b[0;34m\u001b[0m\u001b[0m\n\u001b[1;32m    200\u001b[0m     \u001b[0;31m# Override these methods to implement other queue organizations\u001b[0m\u001b[0;34m\u001b[0m\u001b[0;34m\u001b[0m\u001b[0;34m\u001b[0m\u001b[0m\n",
      "\u001b[0;32m/usr/local/Cellar/python@3.8/3.8.5/Frameworks/Python.framework/Versions/3.8/lib/python3.8/queue.py\u001b[0m in \u001b[0;36mget\u001b[0;34m(self, block, timeout)\u001b[0m\n\u001b[1;32m    165\u001b[0m             \u001b[0;32mif\u001b[0m \u001b[0;32mnot\u001b[0m \u001b[0mblock\u001b[0m\u001b[0;34m:\u001b[0m\u001b[0;34m\u001b[0m\u001b[0;34m\u001b[0m\u001b[0m\n\u001b[1;32m    166\u001b[0m                 \u001b[0;32mif\u001b[0m \u001b[0;32mnot\u001b[0m \u001b[0mself\u001b[0m\u001b[0;34m.\u001b[0m\u001b[0m_qsize\u001b[0m\u001b[0;34m(\u001b[0m\u001b[0;34m)\u001b[0m\u001b[0;34m:\u001b[0m\u001b[0;34m\u001b[0m\u001b[0;34m\u001b[0m\u001b[0m\n\u001b[0;32m--&gt; 167\u001b[0;31m                     \u001b[0;32mraise\u001b[0m \u001b[0mEmpty\u001b[0m\u001b[0;34m\u001b[0m\u001b[0;34m\u001b[0m\u001b[0m\n\u001b[0m\u001b[1;32m    168\u001b[0m             \u001b[0;32melif\u001b[0m \u001b[0mtimeout\u001b[0m \u001b[0;32mis\u001b[0m \u001b[0;32mNone\u001b[0m\u001b[0;34m:\u001b[0m\u001b[0;34m\u001b[0m\u001b[0;34m\u001b[0m\u001b[0m\n\u001b[1;32m    169\u001b[0m                 \u001b[0;32mwhile\u001b[0m \u001b[0;32mnot\u001b[0m \u001b[0mself\u001b[0m\u001b[0;34m.\u001b[0m\u001b[0m_qsize\u001b[0m\u001b[0;34m(\u001b[0m\u001b[0;34m)\u001b[0m\u001b[0;34m:\u001b[0m\u001b[0;34m\u001b[0m\u001b[0;34m\u001b[0m\u001b[0m\n",
      "\u001b[0;31mEmpty\u001b[0m: "
     ]
    }
   ],
   "source": [
    "#Trying to remove that las element from the stack using .get_nowait() as .get() is very slow when the stack is empty\n",
    "stack.get_nowait()"
   ]
  },
  {
   "cell_type": "code",
   "execution_count": 253,
   "metadata": {},
   "outputs": [
    {
     "output_type": "execute_result",
     "data": {
      "text/plain": "[&#39;a&#39;, &#39;b&#39;, &#39;c&#39;]"
     },
     "metadata": {},
     "execution_count": 253
    }
   ],
   "source": [
    "#Creating a queue using lists\n",
    "queue = []\n",
    "queue.append(\"a\")\n",
    "queue.append(\"b\")\n",
    "queue.append(\"c\")\n",
    "\n",
    "queue"
   ]
  },
  {
   "cell_type": "code",
   "execution_count": 254,
   "metadata": {},
   "outputs": [
    {
     "output_type": "execute_result",
     "data": {
      "text/plain": "&#39;a&#39;"
     },
     "metadata": {},
     "execution_count": 254
    }
   ],
   "source": [
    "#Removing the first element from the queue\n",
    "queue.pop(0)"
   ]
  },
  {
   "cell_type": "code",
   "execution_count": 255,
   "metadata": {
    "tags": []
   },
   "outputs": [
    {
     "output_type": "stream",
     "name": "stdout",
     "text": "[&#39;b&#39;, &#39;c&#39;]\n"
    }
   ],
   "source": [
    "#Current state of the queue\n",
    "print(queue)"
   ]
  },
  {
   "cell_type": "code",
   "execution_count": 256,
   "metadata": {},
   "outputs": [
    {
     "output_type": "execute_result",
     "data": {
      "text/plain": "&#39;b&#39;"
     },
     "metadata": {},
     "execution_count": 256
    }
   ],
   "source": [
    "#Removing the first element from the queue\n",
    "queue.pop(0)"
   ]
  },
  {
   "cell_type": "code",
   "execution_count": 257,
   "metadata": {
    "tags": []
   },
   "outputs": [
    {
     "output_type": "stream",
     "name": "stdout",
     "text": "[&#39;c&#39;]\n"
    }
   ],
   "source": [
    "#Current state of the queue\n",
    "print(queue)"
   ]
  },
  {
   "cell_type": "code",
   "execution_count": 258,
   "metadata": {},
   "outputs": [
    {
     "output_type": "execute_result",
     "data": {
      "text/plain": "&#39;c&#39;"
     },
     "metadata": {},
     "execution_count": 258
    }
   ],
   "source": [
    "#Removing the first element from the queue\n",
    "queue.pop(0)"
   ]
  },
  {
   "cell_type": "code",
   "execution_count": 259,
   "metadata": {
    "tags": []
   },
   "outputs": [
    {
     "output_type": "stream",
     "name": "stdout",
     "text": "[]\n"
    }
   ],
   "source": [
    "#Current state of the queue\n",
    "print(queue)"
   ]
  },
  {
   "cell_type": "code",
   "execution_count": 260,
   "metadata": {},
   "outputs": [
    {
     "output_type": "error",
     "ename": "IndexError",
     "evalue": "pop from empty list",
     "traceback": [
      "\u001b[0;31m---------------------------------------------------------------------------\u001b[0m",
      "\u001b[0;31mIndexError\u001b[0m                                Traceback (most recent call last)",
      "\u001b[0;32m&lt;ipython-input-260-1138bcbb3520&gt;\u001b[0m in \u001b[0;36m&lt;module&gt;\u001b[0;34m\u001b[0m\n\u001b[1;32m      1\u001b[0m \u001b[0;31m#Removing the first element from the queue\u001b[0m\u001b[0;34m\u001b[0m\u001b[0;34m\u001b[0m\u001b[0;34m\u001b[0m\u001b[0m\n\u001b[0;32m----&gt; 2\u001b[0;31m \u001b[0mqueue\u001b[0m\u001b[0;34m.\u001b[0m\u001b[0mpop\u001b[0m\u001b[0;34m(\u001b[0m\u001b[0;36m0\u001b[0m\u001b[0;34m)\u001b[0m\u001b[0;34m\u001b[0m\u001b[0;34m\u001b[0m\u001b[0m\n\u001b[0m",
      "\u001b[0;31mIndexError\u001b[0m: pop from empty list"
     ]
    }
   ],
   "source": [
    "#Removing the first element from the queue\n",
    "queue.pop(0)"
   ]
  },
  {
   "cell_type": "code",
   "execution_count": 264,
   "metadata": {
    "tags": []
   },
   "outputs": [
    {
     "output_type": "stream",
     "name": "stdout",
     "text": "deque([&#39;a&#39;, &#39;b&#39;, &#39;c&#39;])\n"
    }
   ],
   "source": [
    "#Creating a queue using collections.deque\n",
    "\n",
    "from collections import deque\n",
    "\n",
    "queue = deque()\n",
    "queue.append(\"a\")\n",
    "queue.append(\"b\")\n",
    "queue.append(\"c\")\n",
    "\n",
    "print(queue)"
   ]
  },
  {
   "cell_type": "code",
   "execution_count": 265,
   "metadata": {},
   "outputs": [
    {
     "output_type": "execute_result",
     "data": {
      "text/plain": "&#39;a&#39;"
     },
     "metadata": {},
     "execution_count": 265
    }
   ],
   "source": [
    "#Removing the first element from the queue\n",
    "queue.popleft()"
   ]
  },
  {
   "cell_type": "code",
   "execution_count": 266,
   "metadata": {
    "tags": []
   },
   "outputs": [
    {
     "output_type": "stream",
     "name": "stdout",
     "text": "deque([&#39;b&#39;, &#39;c&#39;])\n"
    }
   ],
   "source": [
    "#Current state of the queue\n",
    "print(queue)"
   ]
  },
  {
   "cell_type": "code",
   "execution_count": 267,
   "metadata": {},
   "outputs": [
    {
     "output_type": "execute_result",
     "data": {
      "text/plain": "&#39;b&#39;"
     },
     "metadata": {},
     "execution_count": 267
    }
   ],
   "source": [
    "#Removing the first element from the queue\n",
    "queue.popleft()"
   ]
  },
  {
   "cell_type": "code",
   "execution_count": 268,
   "metadata": {
    "tags": []
   },
   "outputs": [
    {
     "output_type": "stream",
     "name": "stdout",
     "text": "deque([&#39;c&#39;])\n"
    }
   ],
   "source": [
    "#Current state of the queue\n",
    "print(queue)"
   ]
  },
  {
   "cell_type": "code",
   "execution_count": 269,
   "metadata": {},
   "outputs": [
    {
     "output_type": "execute_result",
     "data": {
      "text/plain": "&#39;c&#39;"
     },
     "metadata": {},
     "execution_count": 269
    }
   ],
   "source": [
    "#Removing the first element from the queue\n",
    "queue.popleft()"
   ]
  },
  {
   "cell_type": "code",
   "execution_count": 270,
   "metadata": {
    "tags": []
   },
   "outputs": [
    {
     "output_type": "stream",
     "name": "stdout",
     "text": "deque([])\n"
    }
   ],
   "source": [
    "#Current state of the queue\n",
    "print(queue)"
   ]
  },
  {
   "cell_type": "code",
   "execution_count": 271,
   "metadata": {},
   "outputs": [
    {
     "output_type": "error",
     "ename": "IndexError",
     "evalue": "pop from an empty deque",
     "traceback": [
      "\u001b[0;31m---------------------------------------------------------------------------\u001b[0m",
      "\u001b[0;31mIndexError\u001b[0m                                Traceback (most recent call last)",
      "\u001b[0;32m&lt;ipython-input-271-7e4b8bcc67b3&gt;\u001b[0m in \u001b[0;36m&lt;module&gt;\u001b[0;34m\u001b[0m\n\u001b[1;32m      1\u001b[0m \u001b[0;31m#Removing the first element from the queue\u001b[0m\u001b[0;34m\u001b[0m\u001b[0;34m\u001b[0m\u001b[0;34m\u001b[0m\u001b[0m\n\u001b[0;32m----&gt; 2\u001b[0;31m \u001b[0mqueue\u001b[0m\u001b[0;34m.\u001b[0m\u001b[0mpopleft\u001b[0m\u001b[0;34m(\u001b[0m\u001b[0;34m)\u001b[0m\u001b[0;34m\u001b[0m\u001b[0;34m\u001b[0m\u001b[0m\n\u001b[0m",
      "\u001b[0;31mIndexError\u001b[0m: pop from an empty deque"
     ]
    }
   ],
   "source": [
    "#Removing the first element from the queue\n",
    "queue.popleft()"
   ]
  },
  {
   "cell_type": "code",
   "execution_count": 275,
   "metadata": {},
   "outputs": [
    {
     "output_type": "execute_result",
     "data": {
      "text/plain": "&lt;queue.Queue at 0x11222bd60&gt;"
     },
     "metadata": {},
     "execution_count": 275
    }
   ],
   "source": [
    "#Creating a queue using queue.Queue\n",
    "\n",
    "from queue import Queue\n",
    "queue = Queue()\n",
    "queue.put(\"a\")\n",
    "queue.put(\"b\")\n",
    "queue.put(\"c\")\n",
    "\n",
    "queue"
   ]
  },
  {
   "cell_type": "code",
   "execution_count": 276,
   "metadata": {},
   "outputs": [
    {
     "output_type": "execute_result",
     "data": {
      "text/plain": "&#39;a&#39;"
     },
     "metadata": {},
     "execution_count": 276
    }
   ],
   "source": [
    "#Removing the first element from the queue\n",
    "queue.get()"
   ]
  },
  {
   "cell_type": "code",
   "execution_count": 278,
   "metadata": {
    "tags": []
   },
   "outputs": [
    {
     "output_type": "execute_result",
     "data": {
      "text/plain": "&#39;b&#39;"
     },
     "metadata": {},
     "execution_count": 278
    }
   ],
   "source": [
    "#Removing the first element from the queue\n",
    "queue.get()"
   ]
  },
  {
   "cell_type": "code",
   "execution_count": 279,
   "metadata": {},
   "outputs": [
    {
     "output_type": "execute_result",
     "data": {
      "text/plain": "&#39;c&#39;"
     },
     "metadata": {},
     "execution_count": 279
    }
   ],
   "source": [
    "#Removing the first element from the queue\n",
    "queue.get()"
   ]
  },
  {
   "cell_type": "code",
   "execution_count": 280,
   "metadata": {},
   "outputs": [
    {
     "output_type": "error",
     "ename": "Empty",
     "evalue": "",
     "traceback": [
      "\u001b[0;31m---------------------------------------------------------------------------\u001b[0m",
      "\u001b[0;31mEmpty\u001b[0m                                     Traceback (most recent call last)",
      "\u001b[0;32m&lt;ipython-input-280-bdede1d6772e&gt;\u001b[0m in \u001b[0;36m&lt;module&gt;\u001b[0;34m\u001b[0m\n\u001b[1;32m      1\u001b[0m \u001b[0;31m#Removing the first element from the queue\u001b[0m\u001b[0;34m\u001b[0m\u001b[0;34m\u001b[0m\u001b[0;34m\u001b[0m\u001b[0m\n\u001b[0;32m----&gt; 2\u001b[0;31m \u001b[0mqueue\u001b[0m\u001b[0;34m.\u001b[0m\u001b[0mget_nowait\u001b[0m\u001b[0;34m(\u001b[0m\u001b[0;34m)\u001b[0m\u001b[0;34m\u001b[0m\u001b[0;34m\u001b[0m\u001b[0m\n\u001b[0m",
      "\u001b[0;32m/usr/local/Cellar/python@3.8/3.8.5/Frameworks/Python.framework/Versions/3.8/lib/python3.8/queue.py\u001b[0m in \u001b[0;36mget_nowait\u001b[0;34m(self)\u001b[0m\n\u001b[1;32m    196\u001b[0m         \u001b[0;32mraise\u001b[0m \u001b[0mthe\u001b[0m \u001b[0mEmpty\u001b[0m \u001b[0mexception\u001b[0m\u001b[0;34m.\u001b[0m\u001b[0;34m\u001b[0m\u001b[0;34m\u001b[0m\u001b[0m\n\u001b[1;32m    197\u001b[0m         &#39;&#39;&#39;\n\u001b[0;32m--&gt; 198\u001b[0;31m         \u001b[0;32mreturn\u001b[0m \u001b[0mself\u001b[0m\u001b[0;34m.\u001b[0m\u001b[0mget\u001b[0m\u001b[0;34m(\u001b[0m\u001b[0mblock\u001b[0m\u001b[0;34m=\u001b[0m\u001b[0;32mFalse\u001b[0m\u001b[0;34m)\u001b[0m\u001b[0;34m\u001b[0m\u001b[0;34m\u001b[0m\u001b[0m\n\u001b[0m\u001b[1;32m    199\u001b[0m \u001b[0;34m\u001b[0m\u001b[0m\n\u001b[1;32m    200\u001b[0m     \u001b[0;31m# Override these methods to implement other queue organizations\u001b[0m\u001b[0;34m\u001b[0m\u001b[0;34m\u001b[0m\u001b[0;34m\u001b[0m\u001b[0m\n",
      "\u001b[0;32m/usr/local/Cellar/python@3.8/3.8.5/Frameworks/Python.framework/Versions/3.8/lib/python3.8/queue.py\u001b[0m in \u001b[0;36mget\u001b[0;34m(self, block, timeout)\u001b[0m\n\u001b[1;32m    165\u001b[0m             \u001b[0;32mif\u001b[0m \u001b[0;32mnot\u001b[0m \u001b[0mblock\u001b[0m\u001b[0;34m:\u001b[0m\u001b[0;34m\u001b[0m\u001b[0;34m\u001b[0m\u001b[0m\n\u001b[1;32m    166\u001b[0m                 \u001b[0;32mif\u001b[0m \u001b[0;32mnot\u001b[0m \u001b[0mself\u001b[0m\u001b[0;34m.\u001b[0m\u001b[0m_qsize\u001b[0m\u001b[0;34m(\u001b[0m\u001b[0;34m)\u001b[0m\u001b[0;34m:\u001b[0m\u001b[0;34m\u001b[0m\u001b[0;34m\u001b[0m\u001b[0m\n\u001b[0;32m--&gt; 167\u001b[0;31m                     \u001b[0;32mraise\u001b[0m \u001b[0mEmpty\u001b[0m\u001b[0;34m\u001b[0m\u001b[0;34m\u001b[0m\u001b[0m\n\u001b[0m\u001b[1;32m    168\u001b[0m             \u001b[0;32melif\u001b[0m \u001b[0mtimeout\u001b[0m \u001b[0;32mis\u001b[0m \u001b[0;32mNone\u001b[0m\u001b[0;34m:\u001b[0m\u001b[0;34m\u001b[0m\u001b[0;34m\u001b[0m\u001b[0m\n\u001b[1;32m    169\u001b[0m                 \u001b[0;32mwhile\u001b[0m \u001b[0;32mnot\u001b[0m \u001b[0mself\u001b[0m\u001b[0;34m.\u001b[0m\u001b[0m_qsize\u001b[0m\u001b[0;34m(\u001b[0m\u001b[0;34m)\u001b[0m\u001b[0;34m:\u001b[0m\u001b[0;34m\u001b[0m\u001b[0;34m\u001b[0m\u001b[0m\n",
      "\u001b[0;31mEmpty\u001b[0m: "
     ]
    }
   ],
   "source": [
    "#Removing the first element from the queue\n",
    "queue.get_nowait()"
   ]
  },
  {
   "source": [
    "## Quick review on Python Objects and classes"
   ],
   "cell_type": "markdown",
   "metadata": {}
  },
  {
   "cell_type": "code",
   "execution_count": 3,
   "metadata": {
    "tags": []
   },
   "outputs": [
    {
     "output_type": "stream",
     "name": "stdout",
     "text": "John\n27\n"
    }
   ],
   "source": [
    "#Creating the Person class. The __init__() function is used to assign values for name and age\n",
    "class Person:\n",
    "    def __init__(self, name, age):\n",
    "        self.name = name\n",
    "        self.age = age\n",
    "\n",
    "#Creating the Object person1\n",
    "person1 = Person(\"John\", 27)\n",
    "\n",
    "#Printing the properies name and age of person1\n",
    "print(person1.name)\n",
    "print(person1.age)\n"
   ]
  },
  {
   "cell_type": "code",
   "execution_count": 6,
   "metadata": {
    "tags": []
   },
   "outputs": [
    {
     "output_type": "stream",
     "name": "stdout",
     "text": "Hello my name is John\n"
    }
   ],
   "source": [
    "#Creating a method in the Person class\n",
    "class Person:\n",
    "    def __init__(self, name, age):\n",
    "        self.name = name\n",
    "        self.age = age\n",
    "    \n",
    "    def introduction(self):\n",
    "        print(\"Hello my name is \" + self.name)\n",
    "\n",
    "person1 = Person(\"John\", 28)\n",
    "person1.introduction()"
   ]
  },
  {
   "cell_type": "code",
   "execution_count": 8,
   "metadata": {
    "tags": []
   },
   "outputs": [
    {
     "output_type": "stream",
     "name": "stdout",
     "text": "40\n"
    },
    {
     "output_type": "error",
     "ename": "AttributeError",
     "evalue": "'Person' object has no attribute 'age'",
     "traceback": [
      "\u001b[0;31m---------------------------------------------------------------------------\u001b[0m",
      "\u001b[0;31mAttributeError\u001b[0m                            Traceback (most recent call last)",
      "\u001b[0;32m<ipython-input-8-5f151f843022>\u001b[0m in \u001b[0;36m<module>\u001b[0;34m\u001b[0m\n\u001b[1;32m      4\u001b[0m \u001b[0;31m#Deleting the age property from the people1 object\u001b[0m\u001b[0;34m\u001b[0m\u001b[0;34m\u001b[0m\u001b[0;34m\u001b[0m\u001b[0m\n\u001b[1;32m      5\u001b[0m \u001b[0;32mdel\u001b[0m \u001b[0mperson1\u001b[0m\u001b[0;34m.\u001b[0m\u001b[0mage\u001b[0m\u001b[0;34m\u001b[0m\u001b[0;34m\u001b[0m\u001b[0m\n\u001b[0;32m----> 6\u001b[0;31m \u001b[0mprint\u001b[0m\u001b[0;34m(\u001b[0m\u001b[0mperson1\u001b[0m\u001b[0;34m.\u001b[0m\u001b[0mage\u001b[0m\u001b[0;34m)\u001b[0m\u001b[0;34m\u001b[0m\u001b[0;34m\u001b[0m\u001b[0m\n\u001b[0m",
      "\u001b[0;31mAttributeError\u001b[0m: 'Person' object has no attribute 'age'"
     ]
    }
   ],
   "source": [
    "#Setting the age of person1 to 40\n",
    "person1.age = 40\n",
    "print(person1.age)\n",
    "#Deleting the age property from the people1 object\n",
    "del person1.age\n",
    "print(person1.age)"
   ]
  },
  {
   "cell_type": "code",
   "execution_count": 9,
   "metadata": {},
   "outputs": [
    {
     "output_type": "error",
     "ename": "NameError",
     "evalue": "name 'person1' is not defined",
     "traceback": [
      "\u001b[0;31m---------------------------------------------------------------------------\u001b[0m",
      "\u001b[0;31mNameError\u001b[0m                                 Traceback (most recent call last)",
      "\u001b[0;32m<ipython-input-9-de2075ff83ed>\u001b[0m in \u001b[0;36m<module>\u001b[0;34m\u001b[0m\n\u001b[1;32m      1\u001b[0m \u001b[0;31m#Deleting the person1 object:\u001b[0m\u001b[0;34m\u001b[0m\u001b[0;34m\u001b[0m\u001b[0;34m\u001b[0m\u001b[0m\n\u001b[1;32m      2\u001b[0m \u001b[0;32mdel\u001b[0m \u001b[0mperson1\u001b[0m\u001b[0;34m\u001b[0m\u001b[0;34m\u001b[0m\u001b[0m\n\u001b[0;32m----> 3\u001b[0;31m \u001b[0mprint\u001b[0m\u001b[0;34m(\u001b[0m\u001b[0mperson1\u001b[0m\u001b[0;34m)\u001b[0m\u001b[0;34m\u001b[0m\u001b[0;34m\u001b[0m\u001b[0m\n\u001b[0m",
      "\u001b[0;31mNameError\u001b[0m: name 'person1' is not defined"
     ]
    }
   ],
   "source": [
    "#Deleting the person1 object\n",
    "del person1\n",
    "print(person1)"
   ]
  },
  {
   "cell_type": "code",
   "execution_count": 13,
   "metadata": {},
   "outputs": [],
   "source": [
    "#Adding the pass statement to an empty class to avoid errors\n",
    "class Person:\n",
    "    pass"
   ]
  },
  {
   "source": [
    "## Linked Lists"
   ],
   "cell_type": "markdown",
   "metadata": {}
  },
  {
   "cell_type": "code",
   "execution_count": 281,
   "metadata": {
    "tags": []
   },
   "outputs": [
    {
     "output_type": "stream",
     "name": "stdout",
     "text": "An empty linked list: deque([])\nA linked list: deque([&#39;a&#39;, &#39;b&#39;, &#39;c&#39;])\nThe same linked list: deque([&#39;a&#39;, &#39;b&#39;, &#39;c&#39;])\nAre LL2 and LL3 the same?: True\nA more complicated linked list: deque([{&#39;first&#39;: &#39;a&#39;}, {&#39;second&#39;: &#39;b&#39;}, {&#39;third&#39;: &#39;c&#39;}])\nLL2 after adding an element on the right: deque([&#39;a&#39;, &#39;b&#39;, &#39;c&#39;, &#39;d&#39;])\nLL2 after removing an element from the right: deque([&#39;a&#39;, &#39;b&#39;, &#39;c&#39;])\nLL2 after adding an element on the left: deque([&#39;z&#39;, &#39;a&#39;, &#39;b&#39;, &#39;c&#39;])\nLL2 after removing an element from the left: deque([&#39;z&#39;, &#39;z&#39;, &#39;a&#39;, &#39;b&#39;, &#39;c&#39;])\n"
    }
   ],
   "source": [
    "#Creating an empty linked list with deque\n",
    "from collections import deque\n",
    "LL1=deque()\n",
    "print(\"An empty linked list:\", LL1)\n",
    "#Create two identical non empty linked lists with deque\n",
    "LL2=deque(['a','b','c'])\n",
    "LL3=deque('abc')\n",
    "print(\"A linked list:\", LL2)\n",
    "print(\"The same linked list:\", LL3)\n",
    "print(\"Are LL2 and LL3 the same?:\", LL2==LL3)\n",
    "#Creating a more complex linked list with deque\n",
    "LL4=deque([{'first': 'a'}, {'second': 'b'},{'third':'c'}])\n",
    "print(\"A more complicated linked list:\", LL4)\n",
    "#Adding an element to a linked list on the right side\n",
    "LL2.append('d')\n",
    "print(\"LL2 after adding an element on the right:\", LL2)\n",
    "#Remove an element from a linked list from the right side\n",
    "LL2.pop()\n",
    "print(\"LL2 after removing an element from the right:\", LL2)\n",
    "#Adding an element to a linked list on the left side with deque\n",
    "LL2.appendleft('z')\n",
    "print(\"LL2 after adding an element on the left:\", LL2)\n",
    "#Remove an element from a linked list from the left side with deque\n",
    "LL2.appendleft('z')\n",
    "print(\"LL2 after removing an element from the left:\", LL2)"
   ]
  },
  {
   "cell_type": "code",
   "execution_count": 288,
   "metadata": {},
   "outputs": [],
   "source": [
    "#Creating a linked list class\n",
    "class LinkedList:\n",
    "    def __init__(self):\n",
    "        self.head = None\n",
    "        \n",
    "    def __repr__(self): \n",
    "        result = \"\" \n",
    "        ref = self.head \n",
    "        while ref: \n",
    "            result += str(ref.data) + \" -> \"\n",
    "            ref = ref.next\n",
    "\n",
    "        result = result.strip(\" -> \") \n",
    "    \n",
    "        if len(result): \n",
    "            return \"[\" + result + \"]\"\n",
    "        else: \n",
    "            return \"[]\"\n",
    "    \n",
    "    def traverseList(self):\n",
    "        if self.head is None:\n",
    "            print(\"List has no elements\")\n",
    "            return\n",
    "        else:\n",
    "            node = self.head\n",
    "            while node is not None:\n",
    "                print(node.data , \" \")\n",
    "                node = node.next\n",
    "    \n",
    "    def addFirst(self, node):\n",
    "        node.next = self.head\n",
    "        self.head = node\n",
    "        \n",
    "    def addLast(self, newdata):\n",
    "        NewNode = Node(newdata)\n",
    "        if self.head is None:\n",
    "            self.head = NewNode\n",
    "            return\n",
    "        last = self.head\n",
    "        while(last.next):\n",
    "            last = last.next\n",
    "        last.next=NewNode\n",
    "    \n",
    "    def insertAfter(self, prev_data, data):  \n",
    "        if prev_data is None:\n",
    "            print('Can not add nodes in between of empty LinkedList')\n",
    "            return\n",
    "        node=self.head \n",
    "        while node is not None:\n",
    "            if node.data==prev_data:\n",
    "                break\n",
    "            node=node.next\n",
    "        new_node=Node(data)\n",
    "        new_node.next=node.next\n",
    "        node.next=new_node\n",
    "    \n",
    "    def insertBefore(self,prev_data,data):\n",
    "        if prev_data is None:\n",
    "            print('Can not add nodes in between of empty LinkedList')\n",
    "            return\n",
    "        ref=self.head     \n",
    "        new_node=Node(data)\n",
    "        while ref is not None:\n",
    "            if ref.next.data==prev_data:\n",
    "                break\n",
    "            ref=ref.next\n",
    "        new_node.next=ref.next\n",
    "        ref.next=new_node\n",
    "    \n",
    "    def deleteHeadNode(self):\n",
    "        if self.head is None:\n",
    "            print('Can not delete nodes from empty LinkedList')\n",
    "            return\n",
    "        ref=self.head\n",
    "        while self.head is not None:\n",
    "            self.head=ref.next\n",
    "            break\n",
    "        ref.next=self.head.next\n",
    "\n",
    "    def deleteLastNode(self):\n",
    "        if self.head is None:\n",
    "            print('Can not delete nodes from empty LinkedList')\n",
    "            return\n",
    "        ref=self.head\n",
    "        while True:\n",
    "            if ref.next.next is None:\n",
    "                ref.next=None\n",
    "                break\n",
    "            ref=ref.next\n",
    "\n",
    "    def deleteAfterNode(self,data):\n",
    "        del_node=Node(data)\n",
    "        if self.head is None:\n",
    "            print('Can not delete Nodes from empty LinkedList')\n",
    "            return\n",
    "        ref=self.head\n",
    "        while  True:\n",
    "            if ref.data==del_node.data:\n",
    "                break\n",
    "            prev=ref\n",
    "            ref=prev.next\n",
    "        prev.next=ref.next\n",
    "\n",
    "#Creating a node class        \n",
    "class Node:\n",
    "    def __init__(self, data):\n",
    "        self.data = data\n",
    "        self.next = None\n",
    "        \n",
    "    def __repr__(self):\n",
    "        return self.data"
   ]
  },
  {
   "cell_type": "code",
   "execution_count": 289,
   "metadata": {
    "tags": []
   },
   "outputs": [
    {
     "output_type": "stream",
     "name": "stdout",
     "text": "Our three nodes linked list:\n[cat -&gt; dog -&gt; bird]\n"
    }
   ],
   "source": [
    "#Creating a linked list with three nodes\n",
    "LL1=LinkedList()\n",
    "firstNode=Node('cat')\n",
    "secondNode=Node('dog')\n",
    "thirdNode=Node('bird')\n",
    "LL1.head=firstNode\n",
    "firstNode.next=secondNode\n",
    "secondNode.next=thirdNode\n",
    "print(\"Our three nodes linked list:\")\n",
    "print(LL1)"
   ]
  },
  {
   "cell_type": "code",
   "execution_count": 290,
   "metadata": {
    "tags": []
   },
   "outputs": [
    {
     "output_type": "stream",
     "name": "stdout",
     "text": "cat  \ndog  \nbird  \n"
    }
   ],
   "source": [
    "LL1.traverseList()"
   ]
  },
  {
   "cell_type": "code",
   "execution_count": 291,
   "metadata": {
    "tags": []
   },
   "outputs": [
    {
     "output_type": "stream",
     "name": "stdout",
     "text": "LL1 after adding a new node at the start: [frog -&gt; cat -&gt; dog -&gt; bird]\nLL1 after adding a new node at the end: [frog -&gt; cat -&gt; dog -&gt; bird -&gt; turtle]\nLL1 after adding a new node after a node: [frog -&gt; cat -&gt; snake -&gt; dog -&gt; bird -&gt; turtle]\nLL1 after adding a new node before a node: [frog -&gt; cat -&gt; snake -&gt; dog -&gt; mouse -&gt; bird -&gt; turtle]\nLL1 after deleting the first node: [cat -&gt; snake -&gt; dog -&gt; mouse -&gt; bird -&gt; turtle]\nLL1 after deleting the last node: [cat -&gt; snake -&gt; dog -&gt; mouse -&gt; bird]\nLL1 after deleting a specific node: [cat -&gt; snake -&gt; mouse -&gt; bird]\n"
    }
   ],
   "source": [
    "LL1.addFirst(Node(\"frog\"))\n",
    "print(\"LL1 after adding a new node at the start:\", LL1)\n",
    "LL1.addLast(Node(\"turtle\"))\n",
    "print(\"LL1 after adding a new node at the end:\", LL1)\n",
    "LL1.insertAfter(\"cat\", \"snake\")\n",
    "print(\"LL1 after adding a new node after a node:\", LL1)\n",
    "LL1.insertBefore(\"bird\", \"mouse\")\n",
    "print(\"LL1 after adding a new node before a node:\", LL1)\n",
    "LL1.deleteHeadNode()\n",
    "print(\"LL1 after deleting the first node:\", LL1)\n",
    "LL1.deleteLastNode()\n",
    "print(\"LL1 after deleting the last node:\", LL1)\n",
    "LL1.deleteAfterNode(\"dog\")\n",
    "print(\"LL1 after deleting a specific node:\", LL1)"
   ]
  },
  {
   "cell_type": "code",
   "execution_count": 347,
   "metadata": {},
   "outputs": [],
   "source": [
    "#Modifying the Node Class and modifying the method __repr__ for doubly linked lists \n",
    "\n",
    "class Node:\n",
    "    def __init__(self, data):\n",
    "        self.data = data\n",
    "        self.next = None\n",
    "        self.previous = None\n",
    "        \n",
    "    def __repr__(self):\n",
    "        return self.data\n",
    "\n",
    "class DoublyLinkedList:\n",
    "    def __init__(self):\n",
    "        self.head = None\n",
    "        \n",
    "    def __repr__(self): \n",
    "        result = \"\" \n",
    "        ref = self.head \n",
    "        while ref: \n",
    "            result += str(ref.data) + \" <-> \"\n",
    "            ref = ref.next\n",
    "\n",
    "        result = result.strip(\" <-> \") \n",
    "    \n",
    "        if len(result): \n",
    "            return \"[\" + result + \"]\"\n",
    "        else: \n",
    "            return \"[]\"\n",
    "    "
   ]
  },
  {
   "cell_type": "code",
   "execution_count": 350,
   "metadata": {
    "tags": []
   },
   "outputs": [
    {
     "output_type": "stream",
     "name": "stdout",
     "text": "Our three nodes doubly linked list:\n[sun &lt;-&gt; moon &lt;-&gt; starts]\n"
    }
   ],
   "source": [
    "#Creating a doubly linked list with three nodes\n",
    "LL2=DoublyLinkedList()\n",
    "firstNode=Node('sun')\n",
    "secondNode=Node('moon')\n",
    "thirdNode=Node('starts')\n",
    "LL2.head=firstNode\n",
    "firstNode.next=secondNode\n",
    "secondNode.next=thirdNode\n",
    "print(\"Our three nodes doubly linked list:\")\n",
    "print(LL2)"
   ]
  },
  {
   "cell_type": "code",
   "execution_count": 342,
   "metadata": {},
   "outputs": [],
   "source": [
    "#Creating the Link and CircularLinkedList Class\n",
    "class Link:\n",
    "    def __init__(self, data, next):\n",
    "        self.data = data\n",
    "        self.next = next\n",
    "\n",
    "class CircularLinkedList:\n",
    "    def __init__(self):\n",
    "        self.head = Link(None, None)\n",
    "        self.head.next = self.head \n",
    "\n",
    "    def addNode(self, data):           \n",
    "        self.head.next = Link(data, self.head.next)\n",
    "    \n",
    "    def print(self):\n",
    "        node=self.head\n",
    "        while True:\n",
    "            print(str(node.data) + \"->\",end=\"\")\n",
    "            if node.next is self.head:\n",
    "                print(str(self.head.data),end='')\n",
    "                break\n",
    "            node = node.next\n",
    "        print()"
   ]
  },
  {
   "cell_type": "code",
   "execution_count": 346,
   "metadata": {
    "tags": []
   },
   "outputs": [
    {
     "output_type": "stream",
     "name": "stdout",
     "text": "None-&gt;d-&gt;c-&gt;b-&gt;a-&gt;None"
    }
   ],
   "source": [
    "#Creating a circular linked list with 4 nodes\n",
    "CLL1=CircularLinkedList()\n",
    "CLL1.addNode(\"a\")\n",
    "CLL1.addNode(\"b\")\n",
    "CLL1.addNode(\"c\")\n",
    "CLL1.addNode(\"d\")\n",
    "CLL1.print()"
   ]
  },
  {
   "source": [
    "# Binary Trees"
   ],
   "cell_type": "markdown",
   "metadata": {}
  },
  {
   "cell_type": "code",
   "execution_count": 113,
   "metadata": {
    "tags": []
   },
   "outputs": [],
   "source": [
    "#Creating a Node class for our binary tree, including the three different traversals as methods\n",
    "\n",
    "class Node:\n",
    "    def __init__(self, data):\n",
    "        self.left = None\n",
    "        self.right = None\n",
    "        self.data = data\n",
    "\n",
    "    def traversePreOrder(self):\n",
    "        print(self.data, end=' ')\n",
    "        if self.left:\n",
    "            self.left.traversePreOrder()\n",
    "        if self.right:\n",
    "            self.right.traversePreOrder()\n",
    "\n",
    "    def traverseInOrder(self):\n",
    "        if self.left:\n",
    "            self.left.traverseInOrder()\n",
    "        print(self.data, end=' ')\n",
    "        if self.right:\n",
    "            self.right.traverseInOrder()\n",
    "            \n",
    "    def traversePostOrder(self):\n",
    "        if self.left:\n",
    "            self.left.traversePostOrder()\n",
    "        if self.right:\n",
    "            self.right.traversePostOrder()\n",
    "        print(self.data, end=' ')"
   ]
  },
  {
   "cell_type": "code",
   "execution_count": 114,
   "metadata": {
    "tags": []
   },
   "outputs": [],
   "source": [
    "#Creating a binary tree\n",
    "root = Node(8)\n",
    "root.left = Node(6)\n",
    "root.right = Node(4)\n",
    "root.left.left = Node(7)\n",
    "root.left.left.right = Node(2)\n",
    "root.right.left = Node(1)\n",
    "root.right.right = Node(5)"
   ]
  },
  {
   "cell_type": "code",
   "execution_count": 118,
   "metadata": {
    "tags": []
   },
   "outputs": [
    {
     "output_type": "stream",
     "name": "stdout",
     "text": "Pre order Traversal: 8 6 7 2 4 1 5 \nIn order Traversal: 7 2 6 8 1 4 5 \nPost order Traversal: 2 7 6 1 5 4 8 "
    }
   ],
   "source": [
    "#Printing our tree using pre order traversal\n",
    "print(\"Pre order Traversal: \", end=\"\")\n",
    "root.traversePreOrder()\n",
    "#Printing our tree using in order traversal\n",
    "print(\"\\nIn order Traversal: \", end=\"\")\n",
    "root.traverseInOrder()\n",
    "#Printing our tree using post order traversal\n",
    "print(\"\\nPost order Traversal: \", end=\"\")\n",
    "root.traversePostOrder()"
   ]
  },
  {
   "cell_type": "code",
   "execution_count": 121,
   "metadata": {
    "tags": []
   },
   "outputs": [
    {
     "output_type": "stream",
     "name": "stdout",
     "text": "Our tree is: {&#39;8&#39;: [&#39;6&#39;, &#39;4&#39;], &#39;6&#39;: [&#39;7&#39;, None], &#39;7&#39;: [None, &#39;2&#39;], &#39;4&#39;: [&#39;1&#39;, &#39;5&#39;]}\n"
    }
   ],
   "source": [
    "#Creating a binary tree using dictionaries\n",
    "binaryTree = {\n",
    "   \"8\": [\"6\", \"4\"],\n",
    "   \"6\": [\"7\", None],\n",
    "   \"7\": [None, \"2\"],\n",
    "   \"4\": [\"1\", \"5\"],\n",
    "}\n",
    "print(\"Our tree is:\", binaryTree)"
   ]
  },
  {
   "source": [
    "# Graphs"
   ],
   "cell_type": "markdown",
   "metadata": {}
  },
  {
   "cell_type": "code",
   "execution_count": 125,
   "metadata": {},
   "outputs": [],
   "source": [
    "#Creating a graph using dictionaries\n",
    "graph = {\n",
    "    1:[4,6],\n",
    "    2:[5],\n",
    "    3:[5],\n",
    "    4:[1,5], \n",
    "    5:[3,4],\n",
    "    6:[1,7,8],\n",
    "    7:[4,6],\n",
    "    8:[4,6]\n",
    "}"
   ]
  },
  {
   "cell_type": "code",
   "execution_count": 162,
   "metadata": {
    "tags": []
   },
   "outputs": [],
   "source": [
    "#Creating a Graph class that allows to implement graphs using dictionaries, find a path between to nodes and find connected components\n",
    "\n",
    "class Graph:\n",
    "    \n",
    "    graph ={}\n",
    "    \n",
    "    def addEdge(self,node,neighbour):  \n",
    "        if node not in self.graph:\n",
    "            self.graph[node]=[neighbour]\n",
    "        else:\n",
    "            self.graph[node].append(neighbour)\n",
    "            \n",
    "    def showEdges(self):\n",
    "        for node in self.graph:\n",
    "            for neighbour in self.graph[node]:\n",
    "                print(\"(\",node,\", \",neighbour,\")\")\n",
    "    \n",
    "    def findPath(self,start,end,path=[]):\n",
    "        path = path + [start]    \n",
    "        if start==end:\n",
    "            return path\n",
    "        for node in self.graph[start]:\n",
    "            if node not in path:\n",
    "                newPath=self.findPath(node,end,path)\n",
    "                if newPath:\n",
    "                    return newPath\n",
    "                return None\n",
    "        \n",
    "    def BFS(self,s):\n",
    "        visited={}\n",
    "        for i in self.graph:\n",
    "            visited[i]=False\n",
    "        queue=[]\n",
    "        queue.append(s)\n",
    "        visited[s]=True\n",
    "        while len(queue)!=0:\n",
    "            s=queue.pop(0)\n",
    "            for node in self.graph[s]:\n",
    "                if visited[node]!=True:\n",
    "                    visited[node]=True\n",
    "                    queue.append(node)\n",
    "            print(s,end=\" \")"
   ]
  },
  {
   "cell_type": "code",
   "execution_count": 169,
   "metadata": {
    "tags": []
   },
   "outputs": [
    {
     "output_type": "stream",
     "name": "stdout",
     "text": "( 1 ,  4 )\n( 1 ,  6 )\n( 2 ,  5 )\n( 3 ,  5 )\n( 4 ,  1 )\n( 4 ,  5 )\n( 4 ,  7 )\n( 4 ,  8 )\n( 5 ,  2 )\n( 5 ,  3 )\n( 5 ,  4 )\n( 6 ,  1 )\n( 6 ,  7 )\n( 6 ,  8 )\n( 7 ,  4 )\n( 7 ,  6 )\n( 8 ,  4 )\n( 8 ,  6 )\n"
    }
   ],
   "source": [
    "#Re-creating our graph using this class\n",
    "graph= Graph()\n",
    "graph.addEdge('1', '4')\n",
    "graph.addEdge('1', '6')\n",
    "graph.addEdge('2', '5')\n",
    "graph.addEdge('3', '5')\n",
    "graph.addEdge('4', '1')\n",
    "graph.addEdge('4', '5')\n",
    "graph.addEdge('4', '7')\n",
    "graph.addEdge('4', '8')\n",
    "graph.addEdge('5', '2')\n",
    "graph.addEdge('5', '3')\n",
    "graph.addEdge('5', '4')\n",
    "graph.addEdge('6', '1')\n",
    "graph.addEdge('6', '7')\n",
    "graph.addEdge('6', '8')\n",
    "graph.addEdge('7', '4')\n",
    "graph.addEdge('7', '6')\n",
    "graph.addEdge('8', '4')\n",
    "graph.addEdge('8', '6')\n",
    "graph.showEdges()"
   ]
  },
  {
   "cell_type": "code",
   "execution_count": 174,
   "metadata": {
    "tags": []
   },
   "outputs": [
    {
     "output_type": "stream",
     "name": "stdout",
     "text": "A path between the nodes 8 and 6 is: [&#39;8&#39;, &#39;4&#39;, &#39;1&#39;, &#39;6&#39;]\n"
    }
   ],
   "source": [
    "#Finding a path between the nodes 8 and 6\n",
    "print(\"A path between the nodes 8 and 6 is:\", graph.findPath('8','6'))"
   ]
  },
  {
   "cell_type": "code",
   "execution_count": 173,
   "metadata": {
    "tags": []
   },
   "outputs": [
    {
     "output_type": "stream",
     "name": "stdout",
     "text": "1 4 6 5 7 8 2 3 "
    }
   ],
   "source": [
    "#Travesing the nodes using BFS starting from the node 1\n",
    "graph.BFS('1')"
   ]
  }
 ],
 "metadata": {
  "kernelspec": {
   "name": "Python 3.8.5 64-bit",
   "display_name": "Python 3.8.5 64-bit",
   "metadata": {
    "interpreter": {
     "hash": "1ee38ef4a5a9feb55287fd749643f13d043cb0a7addaab2a9c224cbe137c0062"
    }
   }
  },
  "language_info": {
   "codemirror_mode": {
    "name": "ipython",
    "version": 3
   },
   "file_extension": ".py",
   "mimetype": "text/x-python",
   "name": "python",
   "nbconvert_exporter": "python",
   "pygments_lexer": "ipython3",
   "version": "3.8.5-final"
  }
 },
 "nbformat": 4,
 "nbformat_minor": 4
}